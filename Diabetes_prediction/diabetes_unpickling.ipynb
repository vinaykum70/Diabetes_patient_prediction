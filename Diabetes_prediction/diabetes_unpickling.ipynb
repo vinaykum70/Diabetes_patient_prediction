{
 "cells": [
  {
   "cell_type": "markdown",
   "id": "a8f85094",
   "metadata": {},
   "source": [
    "## Production of Machine Learning (Deserialization)"
   ]
  },
  {
   "cell_type": "code",
   "execution_count": 1,
   "id": "5e08ce87",
   "metadata": {},
   "outputs": [],
   "source": [
    "import numpy as np\n",
    "import pickle "
   ]
  },
  {
   "cell_type": "code",
   "execution_count": 2,
   "id": "8b326248",
   "metadata": {},
   "outputs": [],
   "source": [
    "# Loading pretrained classifiers from pickle files\n",
    "\n",
    "model = pickle.load(open('models/Diabetes_final_lr.pkl', 'rb'))\n",
    "\n",
    "scaler = pickle.load(open('models/StandardScaler.pkl','rb'))"
   ]
  },
  {
   "cell_type": "code",
   "execution_count": 3,
   "id": "8ebe4493",
   "metadata": {},
   "outputs": [
    {
     "name": "stdout",
     "output_type": "stream",
     "text": [
      "Enter number of Pregnancies: 6\n",
      "Enter Glucose level: 148\n",
      "Enter Blood Pressure value: 72\n",
      "Enter Skin Thikness value: 35\n",
      "Enter Insulin level: 0\n",
      "Enter BMI value: 33.6\n",
      "Enter Diabetes Pedigree Function value: 0.627\n",
      "Enter Age of the Person: 50\n"
     ]
    },
    {
     "data": {
      "text/plain": [
       "\"prediction = model.predict(scaler.transform([[Pregnancies,Glucose,BloodPressure,SkinThickness, Insulin,BMI,DiabetesPedigreeFunction,Age]]))\\n\\nif(prediction[0]==0):\\n    print('The person is not diabetic')\\nelse:\\n    print('The person is diabetic') \""
      ]
     },
     "execution_count": 3,
     "metadata": {},
     "output_type": "execute_result"
    }
   ],
   "source": [
    "# Reading the Query data\n",
    "\n",
    "Pregnancies = int(input('Enter number of Pregnancies: '))\n",
    "Glucose = int(input('Enter Glucose level: ' ))\n",
    "BloodPressure = int(input('Enter Blood Pressure value: '))\n",
    "SkinThickness = int(input('Enter Skin Thikness value: '))\n",
    "Insulin = int(input('Enter Insulin level: '))\n",
    "BMI = float(input('Enter BMI value: '))\n",
    "DiabetesPedigreeFunction = float(input('Enter Diabetes Pedigree Function value: '))\n",
    "Age = int(input('Enter Age of the Person: '))\n",
    "\n",
    "'''prediction = model.predict(scaler.transform([[Pregnancies,Glucose,BloodPressure,SkinThickness, Insulin,BMI,DiabetesPedigreeFunction,Age]]))\n",
    "\n",
    "if(prediction[0]==0):\n",
    "    print('The person is not diabetic')\n",
    "else:\n",
    "    print('The person is diabetic') '''\n",
    "\n",
    "\n"
   ]
  },
  {
   "cell_type": "markdown",
   "id": "c5847273",
   "metadata": {},
   "source": [
    "### Converting the values to 2D array"
   ]
  },
  {
   "cell_type": "code",
   "execution_count": 4,
   "id": "dbf8fc88",
   "metadata": {},
   "outputs": [
    {
     "data": {
      "text/plain": [
       "array([  6.   , 148.   ,  72.   ,  35.   ,   0.   ,  33.6  ,   0.627,\n",
       "        50.   ])"
      ]
     },
     "execution_count": 4,
     "metadata": {},
     "output_type": "execute_result"
    }
   ],
   "source": [
    "query_point = np.array([Pregnancies,Glucose,BloodPressure,SkinThickness, Insulin,BMI,DiabetesPedigreeFunction,Age])\n",
    "\n",
    "query_point"
   ]
  },
  {
   "cell_type": "code",
   "execution_count": 5,
   "id": "a7801672",
   "metadata": {},
   "outputs": [
    {
     "data": {
      "text/plain": [
       "array([[  6.   , 148.   ,  72.   ,  35.   ,   0.   ,  33.6  ,   0.627,\n",
       "         50.   ]])"
      ]
     },
     "execution_count": 5,
     "metadata": {},
     "output_type": "execute_result"
    }
   ],
   "source": [
    "query_point.reshape(1,-1)"
   ]
  },
  {
   "cell_type": "code",
   "execution_count": 6,
   "id": "a2246ae5",
   "metadata": {},
   "outputs": [
    {
     "data": {
      "text/plain": [
       "array([[  6.   , 148.   ,  72.   ,  35.   ,   0.   ,  33.6  ,   0.627,\n",
       "         50.   ]])"
      ]
     },
     "execution_count": 6,
     "metadata": {},
     "output_type": "execute_result"
    }
   ],
   "source": [
    "query_point = query_point.reshape(1,-1)\n",
    "\n",
    "query_point"
   ]
  },
  {
   "cell_type": "code",
   "execution_count": 7,
   "id": "5385009d",
   "metadata": {},
   "outputs": [
    {
     "name": "stderr",
     "output_type": "stream",
     "text": [
      "C:\\Users\\vinay\\AppData\\Local\\Programs\\Python\\Python310\\lib\\site-packages\\sklearn\\base.py:450: UserWarning: X does not have valid feature names, but StandardScaler was fitted with feature names\n",
      "  warnings.warn(\n"
     ]
    },
    {
     "data": {
      "text/plain": [
       "array([[ 0.63024068,  0.83361242,  0.08964217,  0.93754916, -0.80706674,\n",
       "         0.21244641,  0.59741602,  1.42680431]])"
      ]
     },
     "execution_count": 7,
     "metadata": {},
     "output_type": "execute_result"
    }
   ],
   "source": [
    "query_point_transformed = scaler.transform(query_point)\n",
    "\n",
    "query_point_transformed"
   ]
  },
  {
   "cell_type": "code",
   "execution_count": 8,
   "id": "fa8de056",
   "metadata": {},
   "outputs": [
    {
     "name": "stdout",
     "output_type": "stream",
     "text": [
      "The person is diabetic\n"
     ]
    }
   ],
   "source": [
    "prediction = model.predict(query_point_transformed)\n",
    "\n",
    "if(prediction[0]==0):\n",
    "    print('The person is not diabetic')\n",
    "else:\n",
    "    print('The person is diabetic')"
   ]
  },
  {
   "cell_type": "markdown",
   "id": "66ede131",
   "metadata": {},
   "source": [
    "### Production Ready Code"
   ]
  },
  {
   "cell_type": "code",
   "execution_count": 9,
   "id": "eba99d51",
   "metadata": {},
   "outputs": [
    {
     "name": "stdout",
     "output_type": "stream",
     "text": [
      "Enter number of Pregnancies: 6\n",
      "Enter Glucose level: 148\n",
      "Enter Blood Pressure value: 72\n",
      "Enter Skin Thikness value: 35\n",
      "Enter Insulin level: 0\n",
      "Enter BMI value: 33.6\n",
      "Enter Diabetes Pedigree Function value: 0.627\n",
      "Enter Age of the Person: 50\n",
      "The person is diabetic\n"
     ]
    },
    {
     "name": "stderr",
     "output_type": "stream",
     "text": [
      "C:\\Users\\vinay\\AppData\\Local\\Programs\\Python\\Python310\\lib\\site-packages\\sklearn\\base.py:450: UserWarning: X does not have valid feature names, but StandardScaler was fitted with feature names\n",
      "  warnings.warn(\n"
     ]
    }
   ],
   "source": [
    "# Reading the Query data\n",
    "\n",
    "Pregnancies = int(input('Enter number of Pregnancies: '))\n",
    "Glucose = int(input('Enter Glucose level: ' ))\n",
    "BloodPressure = int(input('Enter Blood Pressure value: '))\n",
    "SkinThickness = int(input('Enter Skin Thikness value: '))\n",
    "Insulin = int(input('Enter Insulin level: '))\n",
    "BMI = float(input('Enter BMI value: '))\n",
    "DiabetesPedigreeFunction = float(input('Enter Diabetes Pedigree Function value: '))\n",
    "Age = int(input('Enter Age of the Person: '))\n",
    "\n",
    "query_point = np.array([Pregnancies,Glucose,BloodPressure,SkinThickness, Insulin,BMI,DiabetesPedigreeFunction,Age]).reshape(1,-1)\n",
    "\n",
    "query_point_transformed = scaler.transform(query_point)\n",
    "\n",
    "prediction = model.predict(query_point_transformed)\n",
    "\n",
    "if(prediction[0]==0):\n",
    "    print('The person is not diabetic')\n",
    "else:\n",
    "    print('The person is diabetic')\n"
   ]
  },
  {
   "cell_type": "code",
   "execution_count": null,
   "id": "ba9074d5",
   "metadata": {},
   "outputs": [],
   "source": []
  }
 ],
 "metadata": {
  "kernelspec": {
   "display_name": "Python 3 (ipykernel)",
   "language": "python",
   "name": "python3"
  },
  "language_info": {
   "codemirror_mode": {
    "name": "ipython",
    "version": 3
   },
   "file_extension": ".py",
   "mimetype": "text/x-python",
   "name": "python",
   "nbconvert_exporter": "python",
   "pygments_lexer": "ipython3",
   "version": "3.10.5"
  }
 },
 "nbformat": 4,
 "nbformat_minor": 5
}
